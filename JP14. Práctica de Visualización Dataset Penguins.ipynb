{
 "cells": [
  {
   "cell_type": "markdown",
   "id": "5bc9532a",
   "metadata": {},
   "source": [
    "# Práctica de Visualización \n",
    "### Visualización de Información\n",
    "#### Enero - Junio 2021"
   ]
  },
  {
   "cell_type": "markdown",
   "id": "4952f868",
   "metadata": {},
   "source": [
    "Este cuaderno de Jupyter tiene como objetivo el realizar ejercicios de análisis y graficación de datos usando el conjunto de datos de penguins.csv. "
   ]
  },
  {
   "cell_type": "markdown",
   "id": "24e84a0b",
   "metadata": {},
   "source": [
    "# Ejercicio 1\n",
    "(valor 2 puntos)\n",
    "\n",
    "Analiza los datos e indica si hay alguna caracterísitica o atributo que permita hacer una separación de los mimos. Respalda tu respuesta con gráficas de datos. "
   ]
  },
  {
   "cell_type": "markdown",
   "id": "87060817",
   "metadata": {},
   "source": [
    "# Ejercicio 2 \n",
    "(valor 0.5 punto)\n",
    "\n",
    "Muestra en una sola figura los diagramas de caja apara las características:\n",
    "* bill_length_mm\t\n",
    "* bill_depth_mm\t\n",
    "\n",
    "para la especie Adelle\n"
   ]
  },
  {
   "cell_type": "markdown",
   "id": "2c1e93c2",
   "metadata": {},
   "source": [
    "# Ejercicio 3 \n",
    "(valor 0.5 punto)\n",
    "\n",
    "Muestra en una sola figura el diagrama de caja e histograma la característica bill_length_mm de la especie Adelle\n"
   ]
  },
  {
   "cell_type": "markdown",
   "id": "897be17d",
   "metadata": {},
   "source": [
    "# Ejercicio 4 \n",
    "(valor 2 puntos)\n",
    "\n",
    "Muestra en una sola figura los mapas de calor que comparen las siguientes características:\n",
    "* bill_length vs bill depth\n",
    "* bill_length vs flipper length\n"
   ]
  },
  {
   "cell_type": "markdown",
   "id": "daa73283",
   "metadata": {},
   "source": [
    "# Ejercicio 5 \n",
    "(valor 2 punto)\n",
    "\n",
    "Se quiere saber cual es la distribución de pingüinos hembra y macho por especie en cada una de las islas. Define visualizaciones que permitan conocer esa información. \n",
    "Justifica la selección de gráficas. \n"
   ]
  },
  {
   "cell_type": "markdown",
   "id": "1eb9968a",
   "metadata": {},
   "source": [
    "# Ejercicio 6 \n",
    "(valor 0.5 punto)\n",
    "\n",
    "Crea gráficas de caja para cada uno de los atributos del dataset en una sola figura"
   ]
  },
  {
   "cell_type": "markdown",
   "id": "53a3f25c",
   "metadata": {},
   "source": [
    "# Ejercicio 7 \n",
    "(valor 0.5 punto)\n",
    "\n",
    "Crea gráficas de violín para cada uno de los atributos del dataset en una sola figura"
   ]
  },
  {
   "cell_type": "markdown",
   "id": "43509f50",
   "metadata": {},
   "source": [
    "# Ejercicio 8 \n",
    "(valor 0.5 punto)\n",
    "\n",
    "Calcula la media de bill_length por species por island. \n"
   ]
  },
  {
   "cell_type": "markdown",
   "id": "bbe1248a",
   "metadata": {},
   "source": [
    "## Tiempo: ¿Cuanto tiempo (mins) te tomó realizar esta actividad?\n",
    "\n",
    "<Escribe tu respuesta aquí>"
   ]
  },
  {
   "cell_type": "markdown",
   "id": "5e8f4768",
   "metadata": {},
   "source": [
    "### Créditos\n",
    "Este cuaderno fue diseñado por **María Susana Ávila García** para el curso de **Visualización de Información** impartido en el **Departamento de Estudios Multidisciplinarios** de la **Universidad de Guanajuato**. "
   ]
  }
 ],
 "metadata": {
  "kernelspec": {
   "display_name": "Python 3",
   "language": "python",
   "name": "python3"
  },
  "language_info": {
   "codemirror_mode": {
    "name": "ipython",
    "version": 3
   },
   "file_extension": ".py",
   "mimetype": "text/x-python",
   "name": "python",
   "nbconvert_exporter": "python",
   "pygments_lexer": "ipython3",
   "version": "3.7.7"
  }
 },
 "nbformat": 4,
 "nbformat_minor": 5
}
